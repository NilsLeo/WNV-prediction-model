{
 "cells": [
  {
   "cell_type": "markdown",
   "metadata": {},
   "source": [
    "# Aufgabe:\n",
    "- Die ausgewählte Problemstellung mit Data-Mining-Verfahren bearbeiten (und exemplarisch lösen)\n",
    "- Bearbeitung der Problemstellung analog zu CRISP-DM\n",
    "- Lösung und Visualisierung\n",
    "- [Präsentation](#) und [Dokumentation](#) erarbeiten\n",
    "\n",
    "# Your Task\n",
    "\n",
    "## Detailed Description\n",
    "- Erstellen und aussagekräftige Evaluation eines prädiktiven Modells zum (exemplarischen) Lösen der ausgewählten Problemstellung\n",
    "- Bearbeitung mit Hilfe des CRISP-DM Prozesses\n",
    "  (siehe auch Zusatzquellen Chapman et al. (2000), Wirth & Hipp (2000), in Blackboard)\n",
    "- Nachvollziehbare, durchdachte Durchführung der Schritte [Project Understanding](#), [Data Understanding](#), [Data Preparation](#), [Modeling](#), [Evaluation](#)\n",
    "- Dabei Gegenüberstellung der Ergebnisse von verschiedenartig erstellten Modellen aus dem Bereich [Supervised Learning](#) (~ 2), z.B. Decision Trees, (Multinomial) Logistic Regression, Support Vector Machines, (Deep) Neural Network, Naive Bayes\n",
    "- Sowie Vergleich mit einem einfachen alternativen Ansatz, der eine Baseline-Performance bei der Bewertung vorgibt\n",
    "- [Präsentation](#) des Projektergebnisses und [Dokumentation](#), die den durchgeführten Prozess und die erzielten Ergebnisse veranschaulicht sowie reflektiert\n",
    "\n",
    "Mit der [Präsentation](#) soll auch die Bearbeitungsphase des Projektes abgeschlossen sein. Die [Dokumentation](#) ist die (anschließende) saubere, schriftliche Aufbereitung des gesamten Projektes.\n",
    "\n",
    "# Our Project\n",
    "\n",
    "## West Nile Virus Prediction in Chicago\n",
    "- 7 years of weather, location, testing, and spraying data\n",
    "- Goal: predict the presence of West Nile virus for a given time, location, and species\n",
    "\n"
   ]
  },
  {
   "cell_type": "markdown",
   "metadata": {},
   "source": [
    "# [West Nile Virus Prediction](https://www.kaggle.com/c/predict-west-nile-virus/overview)\n",
    "\n",
    "## Overview\n",
    "\n",
    "**Start:**  Apr 22, 2015\n",
    "**Close:**  Jun 18, 2015\n",
    "\n",
    "### Description\n",
    "\n",
    "[West Nile virus](http://www.cdc.gov/westnile/)  is most commonly spread to humans through infected mosquitos. Around 20% of people who become infected with the virus develop symptoms ranging from a persistent fever to serious neurological illnesses that can result in death.![West Nile Virus](https://storage.googleapis.com/kaggle-media/competitions/kaggle/4366/media/moggie2.png)\n",
    "\n",
    "In 2002, the first human cases of West Nile virus were reported in Chicago. By 2004, the City of Chicago and the Chicago Department of Public Health (CDPH) had established a comprehensive surveillance and control program that is still in effect today.\n",
    "\n",
    "Every week from late spring through the fall, mosquitos in traps across the city are tested for the virus. The results of these tests influence when and where the city will spray airborne pesticides to control adult mosquito populations.\n",
    "\n",
    "Given weather, location, testing, and spraying data, this competition asks you to predict when and where different species of mosquitos will test positive for West Nile virus. A more accurate method of predicting outbreaks of West Nile virus in mosquitos will help the City of Chicago and CPHD more efficiently and effectively allocate resources towards preventing transmission of this potentially deadly virus.\n",
    "We've jump-started your analysis with some [visualizations](https://www.kaggle.com/users/3716/davidchudzicki/predict-west-nile-virus/map-of-mosquito-counts-on-one-day)  and [starter code](https://www.kaggle.com/users/3716/davidchudzicki/predict-west-nile-virus/when-are-there-records-at-each-site)  in R and Python on [Kaggle Scripts](https://www.kaggle.com/c/predict-west-nile-virus/scripts) . No data download or local environment setup needed!*![Chicago Skyline](https://storage.googleapis.com/kaggle-media/competitions/kaggle/4366/media/chiskyline.png)\n",
    "\n",
    "#### Acknowledgements\n",
    "\n",
    "This competition is sponsored by the [Robert Wood Johnson Foundation](http://www.rwjf.org/) . Data is provided by the [Chicago Department of Public Health](http://www.cityofchicago.org/city/en/depts/cdph.html) .\n",
    "\n",
    "### Evaluation\n",
    "\n",
    "Submissions are evaluated on [area under the ROC curve](http://en.wikipedia.org/wiki/Receiver_operating_characteristic)  between the predicted probability that West Nile Virus is present and the observed outcomes.\n",
    "\n",
    "#### Submission File\n",
    "\n",
    "For each record in the test set, you should predict a real-valued probability that WNV is present. The file should contain a header and have the following format:\n",
    "\n",
    "```Copy code\n",
    "Id,WnvPresent\n",
    "1,0\n",
    "2,1\n",
    "3,0.9\n",
    "4,0.2\n",
    "etc.\n",
    "```\n",
    "\n",
    "### Prizes\n",
    "\n",
    "1. 1st place - $20,000\n",
    "\n",
    "2. 2nd place - $12,000\n",
    "\n",
    "3. 3rd place - $8,000\n",
    "\n",
    "#### Scripts for Swag\n",
    "\n",
    "The authors of the 3 most up-voted [Scripts](https://www.kaggle.com/c/predict-west-nile-virus/scripts)  for this competition will get their choice of an official Kaggle hoodie, t-shirt, or mug! Your position on the leaderboard does not factor into winning Scripts for Swag.\n",
    "\n",
    "### Timeline\n",
    "\n",
    "- **June 10, 2015**  - First Submission deadline. Your team must make its first submission by this deadline.\n",
    "\n",
    "- **June 10, 2015**  - Team Merger deadline. This is the last day you may merge with another team\n",
    "\n",
    "- **June 17, 2015**  - Final submission deadline\n",
    "\n",
    "All deadlines are at 11:59 PM UTC on the corresponding day unless otherwise noted. The organizers reserve the right to update the contest timeline if they deem it necessary.\n",
    "\n",
    "### Getting Started With Scripts\n",
    "\n",
    "[Kaggle Scripts](https://www.kaggle.com/c/predict-west-nile-virus/scripts)  are a great way to share models, visualizations, or analyses with other Kagglers. You can run scripts right on Kaggle without ever downloading the data, but for iterating on your script, you'll probably find it's easier to work locally (and then copy your script to Kaggle for sharing).\n",
    "\n",
    "#### Directory Structure\n",
    "\n",
    "It helps to set up the same directory structure that we have running on Kaggle. (Then you don't have to change any paths when copying the script to Kaggle.) [This file](https://www.kaggle.com/c/predict-west-nile-virus/download/west_nile.zip)  sets up the directory structure (including all of the competition data):\n",
    "\n",
    "- `input`: this contains all of the data files for the competition\n",
    "\n",
    "- `working`: on Kaggle, scripts run with this as the working directory. We recommend you do the same thing locally to avoid mixing output files with source files.\n",
    "\n",
    "- `src`: Source scripts. We've provided some examples to get you started.\n",
    "\n",
    "#### Python and R Environments\n",
    "\n",
    "We have Github repositories showing our [R](https://github.com/Kaggle/docker-r)  and [Python](https://github.com/Kaggle/docker-python)  environments are set up. We plan to make it very easy to work with the exact same environment locally, but at this point it may be easier to work with whatever environment you already have. (If you use Python or R packages locally that turn out to be missing in our online environment, we can probably add them for you.)Do make sure you're using Python 3, though. [Conda](http://conda.pydata.org/docs/intro.html)  is great for managing Python environments.\n",
    "\n",
    "#### RMarkdown\n",
    "\n",
    "If `src/measurement_locations.Rmd` is the RMarkdown file you want to render as HTML, you can say:\n",
    "\n",
    "```bash\n",
    "Rscript render_rmarkdown.R src/measurement_locations.Rmd\n",
    "```\n",
    "\n",
    "Then open `working/output.html` to view the results!\n",
    "\n",
    "#### Command Line Execution\n",
    "\n",
    "In your shell, you can navigate to the `working` directory, and run a script by saying:\n",
    "\n",
    "```bash\n",
    "Rscript ../src/measurement_locations.R\n",
    "```\n",
    "\n",
    "or\n",
    "\n",
    "```bash\n",
    "python ../src/measurement_locations.py\n",
    "```\n",
    "\n",
    "###### R\n",
    "\n",
    "We all love RStudio for interactive work. If you open a script in `src` in RStudio, your working directory will probably default to `src`. So we've included a line in the example that switches you to `working` at the top of the script.\n",
    "\n",
    "###### Python\n",
    "\n",
    "While we don't support iPython Notebooks in Scripts at this point, we know many people like to work in notebooks interactively. We've included an example notebook. The comments indicate the couple small changes required for transitioning to a script.\n",
    "\n",
    "### Citation\n",
    "\n",
    "Wendy Kan. (2015). West Nile Virus Prediction. Kaggle. [https://kaggle.com/competitions/predict-west-nile-virus](https://kaggle.com/competitions/predict-west-nile-virus)\n",
    "\n",
    "### Prizes & Awards\n",
    "\n",
    "- **Prizes & Awards:**  $40,000, Awards Points & Medals\n",
    "\n",
    "- **Participation:**  1,687 Entrants, 1,445 Participants, 1,304 Teams, 29,882 Submissions\n",
    "\n",
    "### Tags\n",
    "\n",
    "- [Binary Classification]()\n",
    "\n",
    "- [Tabular]()\n",
    "\n",
    "- [Area Under Receiver Operating Characteristic Curve]()\n",
    "\n",
    "\n",
    "\n",
    "## Dataset Description\n",
    "\n",
    "### Ready to Explore the Data?\n",
    "\n",
    "[Kaggle Scripts](https://www.kaggle.com/c/predict-west-nile-virus/scripts)  is the most frictionless way to get familiar with the competition dataset! No data download needed to start publishing and forking code in R and Python. It's already pre-loaded with our favorite packages and ready for you to start competing!\n",
    "\n",
    "### Data Description\n",
    "\n",
    "In this competition, you will be analyzing weather data and GIS data and predicting whether or not [West Nile virus](http://www.cdc.gov/westnile/)  is present, for a given time, location, and species.\n",
    "Every year from late-May to early-October, public health workers in Chicago set up mosquito traps scattered across the city. Every week from Monday through Wednesday, these traps collect mosquitos, and the mosquitos are tested for the presence of West Nile virus before the end of the week. The test results include the number of mosquitos, the mosquito species, and whether or not West Nile virus is present in the cohort.\n",
    "\n",
    "#### Main Dataset\n",
    "\n",
    "These test results are organized in such a way that when the number of mosquitos exceeds 50, they are split into another record (another row in the dataset), such that the number of mosquitos is capped at 50.\n",
    "The location of the traps is described by the block number and street name. For your convenience, we have mapped these attributes into Longitude and Latitude in the dataset. Please note that these are derived locations. For example, Block=79, and Street=\"W FOSTER AVE\" gives us an approximate address of \"7900 W FOSTER AVE, Chicago, IL\", which translates to [(41.974089,-87.824812) on the map]() .\n",
    "Some traps are \"satellite traps\". These are traps that are set up near (usually within 6 blocks) an established trap to enhance surveillance efforts. Satellite traps are postfixed with letters. For example, T220A is a satellite trap to T220.\n",
    "\n",
    "Please note that not all the locations are tested at all times. Also, records exist only when a particular species of mosquitos is found at a certain trap at a certain time. In the test set, we ask you for all combinations/permutations of possible predictions and are only scoring the observed ones.\n",
    "\n",
    "#### Spray Data\n",
    "\n",
    "The City of Chicago also does spraying to kill mosquitos. You are given the GIS data for their spray efforts in 2011 and 2013. Spraying can reduce the number of mosquitos in the area, and therefore might eliminate the appearance of West Nile virus.\n",
    "![All Locations of Traps](https://storage.googleapis.com/kaggle-media/competitions/kaggle/4366/media/all_loc_trap.png)\n",
    "\n",
    "#### Weather Data\n",
    "\n",
    "It is believed that hot and dry conditions are more favorable for West Nile virus than cold and wet. We provide you with the dataset from [NOAA](http://cdo.ncdc.noaa.gov/qclcd/QCLCD?prior=N)  of the weather conditions of 2007 to 2014, during the months of the tests.\n",
    "\n",
    "- **Station 1** : CHICAGO O'HARE INTERNATIONAL AIRPORT\n",
    "  - Lat: 41.995\n",
    "\n",
    "  - Lon: -87.933\n",
    "\n",
    "  - Elev: 662 ft. above sea level\n",
    "\n",
    "- **Station 2** : CHICAGO MIDWAY INTL ARPT\n",
    "  - Lat: 41.786\n",
    "\n",
    "  - Lon: -87.752\n",
    "\n",
    "  - Elev: 612 ft. above sea level\n",
    "\n",
    "#### Map Data\n",
    "\n",
    "The map files `mapdata_copyright_openstreetmap_contributors.rds` and `mapdata_copyright_openstreetmap_contributors.txt` are from Open Streetmap and are primarily provided for use in visualizations (but you are allowed to use them in your models if you wish).Here's [an example](https://www.kaggle.com/users/3716/davidchudzicki/predict-west-nile-virus/where-are-the-measurement-points)  using `mapdata_copyright_openstreetmap_contributors.rds`, and here's [one](https://www.kaggle.com/users/3716/davidchudzicki/predict-west-nile-virus/show-map-image-in-python)  using `mapdata_copyright_openstreetmap_contributors.txt`.\n",
    "\n",
    "### File Descriptions\n",
    "\n",
    "- **train.csv, test.csv**  - the training and test set of the main dataset. The training set consists of data from 2007, 2009, 2011, and 2013, while in the test set you are requested to predict the test results for 2008, 2010, 2012, and 2014.\n",
    "  - **Id** : the id of the record\n",
    "\n",
    "  - **Date** : date that the WNV test is performed\n",
    "\n",
    "  - **Address** : approximate address of the location of trap. This is used to send to the GeoCoder.\n",
    "\n",
    "  - **Species** : the species of mosquitos\n",
    "\n",
    "  - **Block** : block number of address\n",
    "\n",
    "  - **Street** : street name\n",
    "\n",
    "  - **Trap** : Id of the trap\n",
    "\n",
    "  - **AddressNumberAndStreet** : approximate address returned from GeoCoder\n",
    "\n",
    "  - **Latitude, Longitude** : Latitude and Longitude returned from GeoCoder\n",
    "\n",
    "  - **AddressAccuracy** : accuracy returned from GeoCoder\n",
    "\n",
    "  - **NumMosquitos** : number of mosquitoes caught in this trap\n",
    "\n",
    "  - **WnvPresent** : whether West Nile Virus was present in these mosquitos. 1 means WNV is present, and 0 means not present.\n",
    "\n",
    "- **spray.csv**  - GIS data of spraying efforts in 2011 and 2013\n",
    "  - **Date, Time** : the date and time of the spray\n",
    "\n",
    "  - **Latitude, Longitude** : the Latitude and Longitude of the spray\n",
    "\n",
    "- **weather.csv**  - weather data from 2007 to 2014. Column descriptions in `noaa_weather_qclcd_documentation.pdf`.\n",
    "\n",
    "- **sampleSubmission.csv**  - a sample submission file in the correct format\n",
    "\n"
   ]
  },
  {
   "cell_type": "markdown",
   "metadata": {},
   "source": [
    "# Projektdokumentation: West Nile Virus Prediction"
   ]
  },
  {
   "cell_type": "markdown",
   "metadata": {},
   "source": [
    "## 1. Einleitung"
   ]
  },
  {
   "cell_type": "markdown",
   "metadata": {},
   "source": [
    "## 2. CRISP-DM: Project Understanding"
   ]
  },
  {
   "cell_type": "markdown",
   "metadata": {},
   "source": [
    "### 2.1 Content"
   ]
  },
  {
   "cell_type": "markdown",
   "metadata": {},
   "source": [
    "### 2.2 Project Goal"
   ]
  },
  {
   "cell_type": "markdown",
   "metadata": {},
   "source": [
    "### 2.3 Domain Knowledge"
   ]
  },
  {
   "cell_type": "markdown",
   "metadata": {},
   "source": [
    "## 3. CRISP-DM: Data Understanding"
   ]
  },
  {
   "cell_type": "markdown",
   "metadata": {},
   "source": [
    "### 3.1 Data Description"
   ]
  },
  {
   "cell_type": "markdown",
   "metadata": {},
   "source": [
    "### 3.2 Attribute Understanding"
   ]
  },
  {
   "cell_type": "markdown",
   "metadata": {},
   "source": [
    "### 3.3 Data Quality"
   ]
  },
  {
   "cell_type": "markdown",
   "metadata": {},
   "source": [
    "### 3.4 Data Visualization"
   ]
  },
  {
   "cell_type": "markdown",
   "metadata": {},
   "source": [
    "## 4. CRISP-DM: Data Preparation"
   ]
  },
  {
   "cell_type": "markdown",
   "metadata": {},
   "source": [
    "### 4.1 Data Selection"
   ]
  },
  {
   "cell_type": "markdown",
   "metadata": {},
   "source": [
    "### 4.2 Data Cleaning"
   ]
  },
  {
   "cell_type": "markdown",
   "metadata": {},
   "source": [
    "### 4.3 Data Transformation and Integration"
   ]
  },
  {
   "cell_type": "markdown",
   "metadata": {},
   "source": [
    "## 5. CRISP-DM: Modeling"
   ]
  },
  {
   "cell_type": "markdown",
   "metadata": {},
   "source": [
    "### 5.1 Model Selection"
   ]
  },
  {
   "cell_type": "markdown",
   "metadata": {},
   "source": [
    "### 5.2 Logistic Regression"
   ]
  },
  {
   "cell_type": "markdown",
   "metadata": {},
   "source": [
    "### 5.3 Decision Tree"
   ]
  },
  {
   "cell_type": "markdown",
   "metadata": {},
   "source": [
    "### 5.4 Random Forest\n"
   ]
  },
  {
   "cell_type": "markdown",
   "metadata": {},
   "source": [
    "## 6. CRISP-DM: Evaluation"
   ]
  },
  {
   "cell_type": "markdown",
   "metadata": {},
   "source": [
    "### 6.1 Confusion-Matrix"
   ]
  },
  {
   "cell_type": "markdown",
   "metadata": {},
   "source": [
    "### 6.2 Comparison and Assessment"
   ]
  },
  {
   "cell_type": "markdown",
   "metadata": {},
   "source": [
    "## 7. Abschluss und Fazit"
   ]
  },
  {
   "cell_type": "markdown",
   "metadata": {},
   "source": [
    "### 7.1 Reflexion des Vorgehens"
   ]
  },
  {
   "cell_type": "markdown",
   "metadata": {},
   "source": [
    "### 7.2 Ausblick"
   ]
  }
 ],
 "metadata": {
  "kernelspec": {
   "display_name": "base",
   "language": "python",
   "name": "python3"
  },
  "language_info": {
   "codemirror_mode": {
    "name": "ipython",
    "version": 3
   },
   "file_extension": ".py",
   "mimetype": "text/x-python",
   "name": "python",
   "nbconvert_exporter": "python",
   "pygments_lexer": "ipython3",
   "version": "3.11.8"
  }
 },
 "nbformat": 4,
 "nbformat_minor": 2
}
