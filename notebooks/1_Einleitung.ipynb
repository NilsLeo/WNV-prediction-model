{
 "cells": [
  {
   "cell_type": "markdown",
   "metadata": {},
   "source": [
    "Das West-Nil-Virus wurde erstmals im Jahr 2002 in Chicago beim Menschen nachgewiesen und wird hauptsächlich durch Moskitos übertragen. Über einen Zeitraum von sieben Jahren wurden Daten zu Wetter, Standort, Tests und Bekämpfungsmaßnahmen gesammelt und in einem Datensatz aggregiert. In diesem Projekt wird ein Vorhersagemodell entwickelt, das anhand von Zeitpunkt, Ort und Spezies der Moskitos vorhersagt, ob das West-Nil-Virus vorhanden ist oder nicht. Die Methodik dieser Arbeit orientiert sich am CRISP-DM Prozess, der in sechs Schritte untergliedert ist. Anfangs wird im Rahmen des Project Understanding das Ziel des Projekts definiert und der Inhalt präzisiert. Im anschließenden Data Understanding-Schritt wird analysiert, welche Daten vorliegen und wie sie für die Zielerreichung genutzt werden können. Nachfolgend werden im Data Preparation-Schritt die vorhandenen Daten aufbereitet, was das Reinigen und Überprüfen der Daten auf Fehler sowie die Restrukturierung umfasst. Basierend auf diesen vorbereiteten Daten erfolgt die Modellierung, die die Entwicklung des Vorhersagemodells einschließt. Die Modellergebnisse werden anschließend im Hinblick auf das zu Beginn definierte Projektziel evaluiert. Den Abschluss der Arbeit bildet eine Reflexion der erreichten Ergebnisse, die einen Ausblick sowie die Grenzen des gewählten Ansatzes und Projekts aufzeigt."
   ]
  }
 ],
 "metadata": {
  "kernelspec": {
   "display_name": "base",
   "language": "python",
   "name": "python3"
  },
  "language_info": {
   "codemirror_mode": {
    "name": "ipython",
    "version": 3
   },
   "file_extension": ".py",
   "mimetype": "text/x-python",
   "name": "python",
   "nbconvert_exporter": "python",
   "pygments_lexer": "ipython3",
   "version": "3.11.5"
  }
 },
 "nbformat": 4,
 "nbformat_minor": 2
}
