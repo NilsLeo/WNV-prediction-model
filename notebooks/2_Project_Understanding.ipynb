{
 "cells": [
  {
   "cell_type": "markdown",
   "metadata": {},
   "source": [
    "Die Vorhersage des West-Nil-Virus (WNV) in Chicago ist entscheidend, um Ressourcen effizient zu nutzen und die Ausbreitung des Virus zu verhindern. In diesem Projekt erstellen wir ein prädiktives Modell zur Vorhersage des Virusaufkommens."
   ]
  },
  {
   "cell_type": "markdown",
   "metadata": {},
   "source": [
    "## 2. CRISP-DM: Project Understanding"
   ]
  },
  {
   "cell_type": "markdown",
   "metadata": {},
   "source": [
    "### 2.1 Content"
   ]
  },
  {
   "cell_type": "markdown",
   "metadata": {},
   "source": [
    "### 2.1 Content"
   ]
  },
  {
   "cell_type": "markdown",
   "metadata": {},
   "source": [
    "### 2.2 Project Goal"
   ]
  },
  {
   "cell_type": "markdown",
   "metadata": {},
   "source": [
    "### 2.3 Domain Knowledge"
   ]
  },
  {
   "cell_type": "code",
   "execution_count": 1,
   "metadata": {
    "execution": {
     "iopub.execute_input": "2024-07-14T00:03:23.193510Z",
     "iopub.status.busy": "2024-07-14T00:03:23.192516Z",
     "iopub.status.idle": "2024-07-14T00:03:23.198041Z",
     "shell.execute_reply": "2024-07-14T00:03:23.198041Z"
    }
   },
   "outputs": [],
   "source": [
    "# import pandas as pd\n",
    "# import numpy as np\n",
    "\n",
    "# import matplotlib.pyplot as plt\n",
    "# #%matplotlib inline\n",
    "\n",
    "# from sklearn.neighbors import KernelDensity\n",
    "# # Source: https://www.kaggle.com/code/vascovv/west-nile-heatmap\n",
    "# mapdata = np.loadtxt(\"../data/mapdata_copyright_openstreetmap_contributors.txt\")\n",
    "# traps = pd.read_csv('../data/train.csv')[['Date', 'Trap','Longitude', 'Latitude', 'WnvPresent']]\n",
    "\n",
    "# alpha_cm = plt.cm.Reds\n",
    "# alpha_cm._init()\n",
    "# alpha_cm._lut[:-3,-1] = abs(np.logspace(0, 1, alpha_cm.N) / 10 - 1)[::-1]\n",
    "# aspect = mapdata.shape[0] * 1.0 / mapdata.shape[1]\n",
    "# lon_lat_box = (-88, -87.5, 41.6, 42.1)\n",
    "\n",
    "# sigthings = traps[traps['WnvPresent'] > 0]\n",
    "# sigthings = sigthings.groupby(['Date', 'Trap','Longitude', 'Latitude']).max()['WnvPresent'].reset_index()\n",
    "# X = sigthings[['Longitude', 'Latitude']].values\n",
    "# kd = KernelDensity(bandwidth=0.02)\n",
    "# kd.fit(X)\n",
    "\n",
    "# xv,yv = np.meshgrid(np.linspace(-88, -87.5, 100), np.linspace(41.6, 42.1, 100))\n",
    "# gridpoints = np.array([xv.ravel(),yv.ravel()]).T\n",
    "# zv = np.exp(kd.score_samples(gridpoints).reshape(100,100))\n",
    "# plt.figure(figsize=(10,14))\n",
    "# plt.imshow(mapdata, \n",
    "#            cmap=plt.get_cmap('gray'), \n",
    "#            extent=lon_lat_box, \n",
    "#            aspect=aspect)\n",
    "# plt.imshow(zv, \n",
    "#            origin='lower', \n",
    "#            cmap=alpha_cm, \n",
    "#            extent=lon_lat_box, \n",
    "#            aspect=aspect)\n",
    "\n",
    "# locations = traps[['Longitude', 'Latitude']].drop_duplicates().values\n",
    "# plt.scatter(locations[:,0], locations[:,1], marker='x')\n",
    "\n",
    "# plt.savefig('heatmap.png')"
   ]
  }
 ],
 "metadata": {
  "kernelspec": {
   "display_name": "base",
   "language": "python",
   "name": "python3"
  },
  "language_info": {
   "codemirror_mode": {
    "name": "ipython",
    "version": 3
   },
   "file_extension": ".py",
   "mimetype": "text/x-python",
   "name": "python",
   "nbconvert_exporter": "python",
   "pygments_lexer": "ipython3",
   "version": "3.11.5"
  }
 },
 "nbformat": 4,
 "nbformat_minor": 2
}
