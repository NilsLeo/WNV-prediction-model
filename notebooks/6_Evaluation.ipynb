{
 "cells": [
  {
   "cell_type": "markdown",
   "metadata": {},
   "source": [
    "## 6. CRISP-DM: Evaluation"
   ]
  },
  {
   "cell_type": "markdown",
   "metadata": {},
   "source": [
    "### 6.1 Confusion-Matrix"
   ]
  },
  {
   "cell_type": "markdown",
   "metadata": {},
   "source": [
    "### 6.2 Comparison and Assessment"
   ]
  },
  {
   "cell_type": "code",
   "execution_count": 1,
   "metadata": {
    "execution": {
     "iopub.execute_input": "2024-07-01T19:58:49.205815Z",
     "iopub.status.busy": "2024-07-01T19:58:49.205373Z",
     "iopub.status.idle": "2024-07-01T19:58:49.210066Z",
     "shell.execute_reply": "2024-07-01T19:58:49.209468Z"
    }
   },
   "outputs": [],
   "source": [
    "# We havent done this yet, since we dont't know which models we will use and whether or not require Data Transformation"
   ]
  },
  {
   "cell_type": "code",
   "execution_count": 2,
   "metadata": {
    "execution": {
     "iopub.execute_input": "2024-07-01T19:58:49.213386Z",
     "iopub.status.busy": "2024-07-01T19:58:49.213165Z",
     "iopub.status.idle": "2024-07-01T19:58:49.215844Z",
     "shell.execute_reply": "2024-07-01T19:58:49.215458Z"
    }
   },
   "outputs": [],
   "source": [
    "# Final TODOS\n",
    "# TODO: Remove unused columns\n",
    "# TODO Remove all imports to first cell\n",
    "# TODO: Remove generated comments\n",
    "# TODO: https://github.com/benjamin-awd/WNV-Prediction/blob/main/1.%20Data%20Cleaning.ipynb\n",
    "# TODO: Convert into Split into Separte Notebooks for each crisp dm step\n",
    "# TODO: Consolidate Google drive to git repo\n",
    "# TODO: Be Able To Explain all of the Code\n",
    "# TODO: Folllow Crisp DM as outlioned in the Course\n",
    "# TODO: Remove unnecessary imports\n",
    "# TODO: See GH (Starred) and Kaggle for inspiration\n",
    "# TODO: Run Missing Values section by Prof, to see whether or not they agree on reasoning\n",
    "# TODO: Remove Spell Checking Section"
   ]
  }
 ],
 "metadata": {
  "language_info": {
   "codemirror_mode": {
    "name": "ipython",
    "version": 3
   },
   "file_extension": ".py",
   "mimetype": "text/x-python",
   "name": "python",
   "nbconvert_exporter": "python",
   "pygments_lexer": "ipython3",
   "version": "3.11.8"
  }
 },
 "nbformat": 4,
 "nbformat_minor": 2
}
