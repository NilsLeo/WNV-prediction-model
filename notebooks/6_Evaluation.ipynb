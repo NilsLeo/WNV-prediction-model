{
 "cells": [
  {
   "cell_type": "markdown",
   "metadata": {},
   "source": [
    "## 6. CRISP-DM: Evaluation"
   ]
  },
  {
   "cell_type": "markdown",
   "metadata": {},
   "source": [
    "### 6.1 Confusion-Matrix"
   ]
  },
  {
   "cell_type": "markdown",
   "metadata": {},
   "source": [
    "### 6.2 Comparison and Assessment"
   ]
  },
  {
   "cell_type": "code",
   "execution_count": 1,
   "metadata": {
    "execution": {
     "iopub.execute_input": "2024-07-02T20:04:17.669310Z",
     "iopub.status.busy": "2024-07-02T20:04:17.669003Z",
     "iopub.status.idle": "2024-07-02T20:04:17.681284Z",
     "shell.execute_reply": "2024-07-02T20:04:17.680559Z"
    }
   },
   "outputs": [],
   "source": [
    "# We havent done this yet, since we dont't know which models we will use and whether or not require Data Transformation"
   ]
  },
  {
   "cell_type": "code",
   "execution_count": 2,
   "metadata": {
    "execution": {
     "iopub.execute_input": "2024-07-02T20:04:17.691764Z",
     "iopub.status.busy": "2024-07-02T20:04:17.691191Z",
     "iopub.status.idle": "2024-07-02T20:04:17.696051Z",
     "shell.execute_reply": "2024-07-02T20:04:17.695130Z"
    }
   },
   "outputs": [],
   "source": []
  }
 ],
 "metadata": {
  "language_info": {
   "codemirror_mode": {
    "name": "ipython",
    "version": 3
   },
   "file_extension": ".py",
   "mimetype": "text/x-python",
   "name": "python",
   "nbconvert_exporter": "python",
   "pygments_lexer": "ipython3",
   "version": "3.11.8"
  }
 },
 "nbformat": 4,
 "nbformat_minor": 2
}
